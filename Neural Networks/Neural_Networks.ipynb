{
  "nbformat": 4,
  "nbformat_minor": 0,
  "metadata": {
    "colab": {
      "provenance": [],
      "authorship_tag": "ABX9TyPo/uWOt3a1R0+HVj9m+Nai",
      "include_colab_link": true
    },
    "kernelspec": {
      "name": "python3",
      "display_name": "Python 3"
    },
    "language_info": {
      "name": "python"
    }
  },
  "cells": [
    {
      "cell_type": "markdown",
      "metadata": {
        "id": "view-in-github",
        "colab_type": "text"
      },
      "source": [
        "<a href=\"https://colab.research.google.com/github/Ps1231/Data-Science-Tutotial-Using-Python/blob/main/Neural%20Networks/Neural_Networks.ipynb\" target=\"_parent\"><img src=\"https://colab.research.google.com/assets/colab-badge.svg\" alt=\"Open In Colab\"/></a>"
      ]
    },
    {
      "cell_type": "markdown",
      "source": [
        "#7: Neural Networks\n",
        "\n",
        "In Python, you can use the scikit-learn library for neural networks and the pyrenn library to visualize the neural network plot. Make sure to install these libraries before proceeding:\n",
        "\n",
        "```BASH\n",
        "pip install scikit-learn\n",
        "pip install pyrenn\n",
        "```\n",
        "\n",
        "\n"
      ],
      "metadata": {
        "id": "qQBVs_gQr4yY"
      }
    },
    {
      "cell_type": "code",
      "execution_count": 2,
      "metadata": {
        "colab": {
          "base_uri": "https://localhost:8080/"
        },
        "id": "aGmG3pAhr2xH",
        "outputId": "a17d020e-0fc7-49a1-cc3d-d3049fbd3c60"
      },
      "outputs": [
        {
          "output_type": "stream",
          "name": "stdout",
          "text": [
            "Collecting pyrenn\n",
            "  Downloading pyrenn-0.1.tar.gz (10 kB)\n",
            "  Preparing metadata (setup.py) ... \u001b[?25l\u001b[?25hdone\n",
            "Requirement already satisfied: numpy in /usr/local/lib/python3.10/dist-packages (from pyrenn) (1.23.5)\n",
            "Building wheels for collected packages: pyrenn\n",
            "  Building wheel for pyrenn (setup.py) ... \u001b[?25l\u001b[?25hdone\n",
            "  Created wheel for pyrenn: filename=pyrenn-0.1-py3-none-any.whl size=9237 sha256=c814f0d8b070a0ad8aea02245b87feebc9be36883a07654ae5b83706407e1233\n",
            "  Stored in directory: /root/.cache/pip/wheels/88/73/cf/52f87ad9ea9e987087f5c2b03c8d33e837693325a2e0305736\n",
            "Successfully built pyrenn\n",
            "Installing collected packages: pyrenn\n",
            "Successfully installed pyrenn-0.1\n"
          ]
        }
      ],
      "source": [
        "!pip install pyrenn\n"
      ]
    },
    {
      "cell_type": "markdown",
      "source": [
        "## 7.1 Demonstrate application of NEURAL NETWORKS using Python"
      ],
      "metadata": {
        "id": "j1mj2e00sALi"
      }
    },
    {
      "cell_type": "code",
      "source": [
        "import pandas as pd\n",
        "from sklearn.preprocessing import MinMaxScaler\n",
        "from sklearn.neural_network import MLPClassifier\n",
        "import pyrenn\n",
        "\n",
        "# Load the dataset (replace 'bank.csv' with the actual path to your dataset)\n",
        "bank_data = pd.read_csv('/content/bank.csv')\n",
        "\n",
        "# Convert binary and ordinal variables to factors\n",
        "bank_data['deposit'] = bank_data['deposit'].map({'yes': 1, 'no': 0})\n",
        "bank_data['marital'] = pd.Categorical(bank_data['marital'])\n",
        "bank_data['education'] = pd.Categorical(bank_data['education'])\n",
        "bank_data['default'] = pd.Categorical(bank_data['default'])\n",
        "bank_data['housing'] = pd.Categorical(bank_data['housing'])\n",
        "bank_data['loan'] = pd.Categorical(bank_data['loan'])\n",
        "bank_data['contact'] = pd.Categorical(bank_data['contact'])\n",
        "bank_data['month'] = pd.Categorical(bank_data['month'])\n",
        "bank_data['poutcome'] = pd.Categorical(bank_data['poutcome'])\n",
        "\n",
        "# Perform min-max standardization on the Age variable\n",
        "bank_data['age_mm'] = (bank_data['age'] - bank_data['age'].min()) / (bank_data['age'].max() - bank_data['age'].min())\n",
        "\n",
        "# Select relevant columns\n",
        "selected_columns = [\"deposit\", \"marital\", \"education\", \"default\", \"housing\", \"loan\", \"contact\", \"month\", \"poutcome\", \"age_mm\"]\n",
        "\n",
        "# Create a DataFrame with selected columns\n",
        "fram_train = bank_data[selected_columns]\n",
        "\n",
        "# Convert categorical variables to dummy variables\n",
        "fram_train = pd.get_dummies(fram_train, columns=[\"marital\", \"education\", \"default\", \"housing\", \"loan\", \"contact\", \"month\", \"poutcome\"])\n",
        "\n",
        "# Split the data into predictor variables (X) and the target variable (y)\n",
        "X = fram_train.drop(\"deposit\", axis=1)\n",
        "y = fram_train[\"deposit\"]\n",
        "\n",
        "# Initialize the MinMaxScaler\n",
        "scaler = MinMaxScaler()\n",
        "\n",
        "# Scale the predictor variables\n",
        "X_scaled = scaler.fit_transform(X)\n",
        "\n",
        "# Run the neural network algorithm\n",
        "nnet01 = MLPClassifier(hidden_layer_sizes=(1,), max_iter=1000)\n",
        "nnet01.fit(X_scaled, y)\n",
        "\n",
        "# Plot the neural network\n",
        "import matplotlib.pyplot as plt\n",
        "import numpy as np\n",
        "\n",
        "# Assuming you have already trained the neural network (nnet01) using MLPClassifier\n",
        "\n",
        "# Extract weights and biases from the trained neural network\n",
        "weights = [coef.T for coef in nnet01.coefs_]\n",
        "biases = nnet01.intercepts_\n",
        "\n",
        "# Create a plot\n",
        "fig, ax = plt.subplots(figsize=(10, 8))\n",
        "\n",
        "# Draw edges (connections) between neurons\n",
        "for layer in range(1, len(weights)):\n",
        "    for i in range(len(weights[layer - 1])):\n",
        "        for j in range(len(weights[layer][0])):\n",
        "            # Limit alpha value to be within 0 to 1\n",
        "            alpha_value = min(max(abs(weights[layer - 1][i, j]), 0), 1)\n",
        "            ax.arrow(layer - 1, i, 1, j - i, color='black', linewidth=0.1, alpha=alpha_value)\n",
        "\n",
        "# Draw nodes (neurons)\n",
        "for layer in range(len(biases)):\n",
        "    for i in range(len(biases[layer])):\n",
        "        ax.scatter(layer, i, color='red', s=100)\n",
        "\n",
        "# Set labels and title\n",
        "ax.set_xticks(np.arange(len(weights) + 1))\n",
        "ax.set_xticklabels(['Input'] + [f'Hidden {i}' for i in range(1, len(weights))] + ['Output'])\n",
        "ax.set_yticks(np.arange(max([len(bias) for bias in biases])))\n",
        "ax.set_yticklabels([f'Neuron {i}' for i in range(max([len(bias) for bias in biases]))])\n",
        "ax.set_title('Neural Network Architecture')\n",
        "\n",
        "plt.show()\n"
      ],
      "metadata": {
        "colab": {
          "base_uri": "https://localhost:8080/",
          "height": 699
        },
        "id": "CiaFQsl3sNtR",
        "outputId": "0a3c2dd7-e93a-434f-aeb3-c562a4b4ac60"
      },
      "execution_count": 9,
      "outputs": [
        {
          "output_type": "display_data",
          "data": {
            "text/plain": [
              "<Figure size 1000x800 with 1 Axes>"
            ],
            "image/png": "[encoded data removed]"
          },
          "metadata": {}
        }
      ]
    }
  ]
}