{
  "nbformat": 4,
  "nbformat_minor": 0,
  "metadata": {
    "colab": {
      "provenance": [],
      "authorship_tag": "ABX9TyP6SuwYs0hO//PvchETzI0i",
      "include_colab_link": true
    },
    "kernelspec": {
      "name": "python3",
      "display_name": "Python 3"
    },
    "language_info": {
      "name": "python"
    }
  },
  "cells": [
    {
      "cell_type": "markdown",
      "metadata": {
        "id": "view-in-github",
        "colab_type": "text"
      },
      "source": [
        "<a href=\"https://colab.research.google.com/github/Ps1231/Data-Science-Tutotial-Using-Python/blob/main/Clustering/Clustering.ipynb\" target=\"_parent\"><img src=\"https://colab.research.google.com/assets/colab-badge.svg\" alt=\"Open In Colab\"/></a>"
      ]
    },
    {
      "cell_type": "markdown",
      "source": [
        "# 8: Clustering\n",
        "K-means clustering is a popular unsupervised machine learning algorithm used for partitioning a dataset into distinct groups or clusters based on the similarity of data points. The goal of the K-means algorithm is to assign each data point to one of K clusters in a way that minimizes the sum of squared distances between data points and the centroid of their assigned cluster.\n",
        "\n",
        "Here's a step-by-step explanation of how the K-means algorithm works:\n",
        "\n",
        "**Initialization:** Choose K initial cluster centroids randomly or using a specific initialization method.\n",
        "\n",
        "**Assignment Step:** Assign each data point to the nearest centroid. The distance metric commonly used is Euclidean distance, but other distance metrics can be employed.\n",
        "\n",
        "**Update Step:** Recalculate the centroids of the clusters based on the current assignment of data points.\n",
        "\n",
        "**Repeat:** Repeat steps 2 and 3 until convergence. Convergence occurs when the centroids no longer change significantly or when a specified number of iterations is reached.\n",
        "\n",
        "The choice of K (the number of clusters) is a crucial parameter in K-means clustering and is often determined using methods like the elbow method or silhouette analysis.\n",
        "\n",
        "K-means clustering has several applications, such as customer segmentation, image compression, anomaly detection, and more. It is an iterative algorithm that converges to a solution, and its efficiency makes it suitable for large datasets. However, K-means is sensitive to the initial choice of centroids and may converge to a local minimum, so multiple initializations or more advanced variants like K-means++ can be used to address this issue.\n",
        "\n",
        "\n",
        "\n",
        "\n",
        "\n"
      ],
      "metadata": {
        "id": "_wtChVhRwM4Y"
      }
    },
    {
      "cell_type": "markdown",
      "source": [
        "## 8.1 Demonstrate  application of k‐MEANS CLUSTERING Using R/Python\n"
      ],
      "metadata": {
        "id": "kK8bw9Z6wT8n"
      }
    },
    {
      "cell_type": "code",
      "source": [
        "import pandas as pd\n",
        "from sklearn.cluster import KMeans\n",
        "from sklearn.preprocessing import StandardScaler\n",
        "\n",
        "# Load the dataset (replace 'bank.csv' with the actual path to your dataset)\n",
        "bank_data = pd.read_csv('/content/bank.csv')\n",
        "\n",
        "# Select predictor variables (replace with your actual predictor variables)\n",
        "X = bank_data[[\"balance\", \"duration\"]]\n",
        "\n",
        "# Standardize the predictor variables using z-score transformation\n",
        "scaler = StandardScaler()\n",
        "Xz = pd.DataFrame(scaler.fit_transform(X), columns=[\"balance\", \"duration\"])\n",
        "\n",
        "# Run k-means clustering on the training data set\n",
        "kmeans_model = KMeans(n_clusters=2).fit(Xz)\n",
        "\n",
        "# Get cluster membership for each record\n",
        "cluster_membership = kmeans_model.labels_\n",
        "\n",
        "# Separate records into two groups based on cluster membership\n",
        "cluster1 = Xz.loc[cluster_membership == 0]\n",
        "cluster2 = Xz.loc[cluster_membership == 1]\n",
        "\n",
        "# Compute summary statistics for the two clusters\n",
        "print(\"Cluster 1 Summary Statistics:\")\n",
        "print(cluster1.describe())\n",
        "\n",
        "print(\"\\nCluster 2 Summary Statistics:\")\n",
        "print(cluster2.describe())\n"
      ],
      "metadata": {
        "colab": {
          "base_uri": "https://localhost:8080/"
        },
        "id": "dqNmpEBvwWp_",
        "outputId": "a27b65d5-746b-4f22-912c-d57dbf4916c7"
      },
      "execution_count": 1,
      "outputs": [
        {
          "output_type": "stream",
          "name": "stderr",
          "text": [
            "/usr/local/lib/python3.10/dist-packages/sklearn/cluster/_kmeans.py:870: FutureWarning: The default value of `n_init` will change from 10 to 'auto' in 1.4. Set the value of `n_init` explicitly to suppress the warning\n",
            "  warnings.warn(\n"
          ]
        },
        {
          "output_type": "stream",
          "name": "stdout",
          "text": [
            "Cluster 1 Summary Statistics:\n",
            "           balance     duration\n",
            "count  8932.000000  8932.000000\n",
            "mean     -0.036090    -0.405619\n",
            "std       0.812361     0.411093\n",
            "min      -2.596850    -1.065918\n",
            "25%      -0.438270    -0.728852\n",
            "50%      -0.311924    -0.483975\n",
            "75%       0.033319    -0.138266\n",
            "max      10.977833     0.656865\n",
            "\n",
            "Cluster 2 Summary Statistics:\n",
            "           balance     duration\n",
            "count  2230.000000  2230.000000\n",
            "mean      0.144553     1.624657\n",
            "std       1.528837     1.015145\n",
            "min      -1.422064    -0.757661\n",
            "25%      -0.427573     0.913986\n",
            "50%      -0.265571     1.343961\n",
            "75%       0.172919     2.039700\n",
            "max      24.703510    10.109123\n"
          ]
        }
      ]
    }
  ]
}