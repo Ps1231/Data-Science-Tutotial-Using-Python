{
  "nbformat": 4,
  "nbformat_minor": 0,
  "metadata": {
    "colab": {
      "provenance": [],
      "mount_file_id": "17BCaT7PZNWAnoU6CdMTl7WTHU06hIEJA",
      "authorship_tag": "ABX9TyPdAKCc6n1u9gk4ky6bLEeF",
      "include_colab_link": true
    },
    "kernelspec": {
      "name": "python3",
      "display_name": "Python 3"
    },
    "language_info": {
      "name": "python"
    }
  },
  "cells": [
    {
      "cell_type": "markdown",
      "metadata": {
        "id": "view-in-github",
        "colab_type": "text"
      },
      "source": [
        "<a href=\"https://colab.research.google.com/github/Ps1231/Data-Science-Tutotial-Using-Python/blob/main/Data%20Preparation/Data_Preparation.ipynb\" target=\"_parent\"><img src=\"https://colab.research.google.com/assets/colab-badge.svg\" alt=\"Open In Colab\"/></a>"
      ]
    },
    {
      "cell_type": "markdown",
      "source": [
        "# 2 : Data Preparation"
      ],
      "metadata": {
        "id": "8motfLMSkUcL"
      }
    },
    {
      "cell_type": "code",
      "execution_count": 23,
      "metadata": {
        "colab": {
          "base_uri": "https://localhost:8080/"
        },
        "id": "k2pLs9sikAUs",
        "outputId": "60118fcc-c68a-448a-bb9c-a4d2734b4264"
      },
      "outputs": [
        {
          "output_type": "stream",
          "name": "stdout",
          "text": [
            "Drive already mounted at /content/drive; to attempt to forcibly remount, call drive.mount(\"/content/drive\", force_remount=True).\n"
          ]
        }
      ],
      "source": [
        "# First, we need to open the required package, using the code discussed in the previous python tutorial notebook\n",
        "import pandas as pd\n",
        "\n",
        "# Next, import the data set under the name house_train by using the read_csv() command and specifying the file’s location.\n",
        "house_train = pd.read_csv(\"/content/sample_data/california_housing_train.csv\")\n",
        "\n",
        "# As discussed , since the read_csv command is in the pandas package, we need to give the name of the package before the command.\n",
        "# As we opened the pandas package as pd, the full command is pd.read_csv()\n",
        "\n",
        "from google.colab import drive\n",
        "\n",
        "drive.mount( '/content/drive')\n",
        "\n",
        "bank_train = pd.read_csv('/content/drive/MyDrive/bank.csv')"
      ]
    },
    {
      "cell_type": "markdown",
      "source": [
        "## 2.1 How to Add an Index Field Using Python"
      ],
      "metadata": {
        "id": "eOzBcobUkiTC"
      }
    },
    {
      "cell_type": "markdown",
      "source": [
        "### Find the number of records and columns in the data set."
      ],
      "metadata": {
        "id": "b1Pksx5vn0MI"
      }
    },
    {
      "cell_type": "code",
      "source": [
        "# To create the index, we first need to find the number of records and columns in the data set.\n",
        "house_train.shape\n",
        "\n",
        "# Using .shape after the name of the data set will give us the number of rows and columns in the data set.\n",
        "# The first number in the output is the number of records, 17000. The second is the number of variables.\n"
      ],
      "metadata": {
        "colab": {
          "base_uri": "https://localhost:8080/"
        },
        "id": "Oj_XRqdRkr34",
        "outputId": "0bffaee5-5e6d-4067-a4a7-55d0f6fb1e6a"
      },
      "execution_count": 8,
      "outputs": [
        {
          "output_type": "execute_result",
          "data": {
            "text/plain": [
              "(17000, 10)"
            ]
          },
          "metadata": {},
          "execution_count": 8
        }
      ]
    },
    {
      "cell_type": "markdown",
      "source": [
        "### Now, create a new variable that assigns every record a unique integer."
      ],
      "metadata": {
        "id": "5CZO8x4An9z9"
      }
    },
    {
      "cell_type": "code",
      "source": [
        "\n",
        "# Once we know the number of records, we create a new variable that assigns every record a unique integer.\n",
        "\n",
        "house_train['index'] = pd.Series(range(0,26874))\n",
        "# The nested commands Series() and range() create a string of numbers whose lower bound is zero and upper bound is the number of records.\n",
        "# Since the Series() command is contained in the pandas package,\n",
        "# we renamed the pandas package pd, we preface the Series() command with pd and a period.\n",
        "# The result is the code pd.Series().\n",
        "# Note that the lower bound of the range() command is zero and not one, as Python begins counting locations at zero.\n",
        "# We save the series of numbers as a new variable in the data set, index,\n",
        "# by assigning the output of pd.Series(range()) to the index variable of the bank_train data set using house_train[‘index’].\n",
        "# To view the data set with its new variable, we can look at the head of the data set.\n",
        "\n",
        "house_train.head\n",
        "# Using .head after the name of the data set will generate output containing the"
      ],
      "metadata": {
        "colab": {
          "base_uri": "https://localhost:8080/"
        },
        "id": "wuTFmYJPoEo1",
        "outputId": "09fc7a48-2ab7-4de7-832c-abb30ca211a0"
      },
      "execution_count": 9,
      "outputs": [
        {
          "output_type": "execute_result",
          "data": {
            "text/plain": [
              "<bound method NDFrame.head of        longitude  latitude  housing_median_age  total_rooms  total_bedrooms  \\\n",
              "0        -114.31     34.19                15.0       5612.0          1283.0   \n",
              "1        -114.47     34.40                19.0       7650.0          1901.0   \n",
              "2        -114.56     33.69                17.0        720.0           174.0   \n",
              "3        -114.57     33.64                14.0       1501.0           337.0   \n",
              "4        -114.57     33.57                20.0       1454.0           326.0   \n",
              "...          ...       ...                 ...          ...             ...   \n",
              "16995    -124.26     40.58                52.0       2217.0           394.0   \n",
              "16996    -124.27     40.69                36.0       2349.0           528.0   \n",
              "16997    -124.30     41.84                17.0       2677.0           531.0   \n",
              "16998    -124.30     41.80                19.0       2672.0           552.0   \n",
              "16999    -124.35     40.54                52.0       1820.0           300.0   \n",
              "\n",
              "       population  households  median_income  median_house_value  index  \n",
              "0          1015.0       472.0         1.4936             66900.0      0  \n",
              "1          1129.0       463.0         1.8200             80100.0      1  \n",
              "2           333.0       117.0         1.6509             85700.0      2  \n",
              "3           515.0       226.0         3.1917             73400.0      3  \n",
              "4           624.0       262.0         1.9250             65500.0      4  \n",
              "...           ...         ...            ...                 ...    ...  \n",
              "16995       907.0       369.0         2.3571            111400.0  16995  \n",
              "16996      1194.0       465.0         2.5179             79000.0  16996  \n",
              "16997      1244.0       456.0         3.0313            103600.0  16997  \n",
              "16998      1298.0       478.0         1.9797             85800.0  16998  \n",
              "16999       806.0       270.0         3.0147             94600.0  16999  \n",
              "\n",
              "[17000 rows x 10 columns]>"
            ]
          },
          "metadata": {},
          "execution_count": 9
        }
      ]
    },
    {
      "cell_type": "markdown",
      "source": [
        "##  2.2 How to Change Misleading Field Values Using Python\n"
      ],
      "metadata": {
        "id": "p0WcX75EksYQ"
      }
    },
    {
      "cell_type": "markdown",
      "source": [
        "### To replace misleading values"
      ],
      "metadata": {
        "id": "uMLbFOy_sbVG"
      }
    },
    {
      "cell_type": "code",
      "source": [
        "# We also need to import the numpy package for this section.\n",
        "import numpy as np\n",
        "\n",
        "# We need to identify all records with d'latitude' value of 33.6 and replace them with the Python code for missing numbers, NaN.\n",
        "# Once the replacement is made, we will save the variable under the 'latitude' variable name, effectively overriding the previous variable’s values.\n",
        "\n",
        "house_train['latitude'] = house_train['latitude'].replace({33.60000: np.NaN})\n",
        "\n",
        "# The code house_train['latitude'] accesses the variable 'latitude'.\n",
        "# The command replace({33.6: np.NaN }) finds each instance of 33.6 in the 'latitude' variable and replaces it with the value NaN.\n",
        "# To save the newly edited variable under its original name,\n",
        "# we set the right‐hand side equal to the original 'latitude' variable on the left by reusing the variable name house_train['latitude'].\n",
        "house_train.head\n"
      ],
      "metadata": {
        "colab": {
          "base_uri": "https://localhost:8080/"
        },
        "id": "qysUXb6Lkxwx",
        "outputId": "916166b4-d61a-43a9-d5c6-01a1a0b99aaf"
      },
      "execution_count": 20,
      "outputs": [
        {
          "output_type": "execute_result",
          "data": {
            "text/plain": [
              "<bound method NDFrame.head of        longitude  latitude  housing_median_age  total_rooms  total_bedrooms  \\\n",
              "0        -114.31     34.19                15.0       5612.0          1283.0   \n",
              "1        -114.47     34.40                19.0       7650.0          1901.0   \n",
              "2        -114.56     33.69                17.0        720.0           174.0   \n",
              "3        -114.57       NaN                14.0       1501.0           337.0   \n",
              "4        -114.57     33.57                20.0       1454.0           326.0   \n",
              "...          ...       ...                 ...          ...             ...   \n",
              "16995    -124.26     40.58                52.0       2217.0           394.0   \n",
              "16996    -124.27     40.69                36.0       2349.0           528.0   \n",
              "16997    -124.30     41.84                17.0       2677.0           531.0   \n",
              "16998    -124.30     41.80                19.0       2672.0           552.0   \n",
              "16999    -124.35     40.54                52.0       1820.0           300.0   \n",
              "\n",
              "       population  households  median_income  median_house_value  index  \n",
              "0          1015.0       472.0         1.4936             66900.0      0  \n",
              "1          1129.0       463.0         1.8200             80100.0      1  \n",
              "2           333.0       117.0         1.6509             85700.0      2  \n",
              "3           515.0       226.0         3.1917             73400.0      3  \n",
              "4           624.0       262.0         1.9250             65500.0      4  \n",
              "...           ...         ...            ...                 ...    ...  \n",
              "16995       907.0       369.0         2.3571            111400.0  16995  \n",
              "16996      1194.0       465.0         2.5179             79000.0  16996  \n",
              "16997      1244.0       456.0         3.0313            103600.0  16997  \n",
              "16998      1298.0       478.0         1.9797             85800.0  16998  \n",
              "16999       806.0       270.0         3.0147             94600.0  16999  \n",
              "\n",
              "[17000 rows x 10 columns]>"
            ]
          },
          "metadata": {},
          "execution_count": 20
        }
      ]
    },
    {
      "cell_type": "markdown",
      "source": [
        "### To create a histogram of the variable"
      ],
      "metadata": {
        "id": "9U0bOxgWsRiV"
      }
    },
    {
      "cell_type": "code",
      "source": [
        "# To create a histogram of the variable, use the hist() command.\n",
        "house_train['latitude'].plot(kind ='hist',title = 'Histogram ')\n",
        "\n",
        "# Using .plot() after the variable name will make a plot of the variable. We use kind = ‘hist’ to specify that a histogram should be made.\n",
        "# The title input, contained in single quotes, creates the title of the histogram.\n"
      ],
      "metadata": {
        "colab": {
          "base_uri": "https://localhost:8080/",
          "height": 469
        },
        "id": "IMLLYgZPsKXY",
        "outputId": "ac5ba8b4-2d27-4756-eae8-50330146fafe"
      },
      "execution_count": 21,
      "outputs": [
        {
          "output_type": "execute_result",
          "data": {
            "text/plain": [
              "<Axes: title={'center': 'Histogram '}, ylabel='Frequency'>"
            ]
          },
          "metadata": {},
          "execution_count": 21
        },
        {
          "output_type": "display_data",
          "data": {
            "text/plain": [
              "<Figure size 640x480 with 1 Axes>"
            ],
            "image/png": "[encoded data removed]"
          },
          "metadata": {}
        }
      ]
    },
    {
      "cell_type": "markdown",
      "source": [
        "## 2.3 How to Reexpress Categorical Field Values Using Python\n"
      ],
      "metadata": {
        "id": "GpI0VDrgk1WR"
      }
    },
    {
      "cell_type": "code",
      "source": [
        "# We will replicate the marital variable, and name it marital_numeric, in preparation for replacing its categorical values with numeric ones.\n",
        "bank_train['marital_numeric'] = bank_train['marital']\n",
        "\n",
        "# The right‐hand side of the equal sign specifies the marital variable, and the equal sign assigns those values to the left‐hand side.\n",
        "# There is currently no variable named marital_numeric, so one will be created and given the values of the variable marital.\n",
        "\n",
        "# We need to set up a dictionary specifically for converting the categorical values in the marital_numeric variable to numeric values.\n",
        "# The dictionary iscontained in curly brackets, { }, to set up our dictionary, as follows:\n",
        "dict_edu = {\"marital_numeric\": {\"married\": 2,\"single\": 1, \"divorced\": 3}}\n",
        "\n",
        "# Inside the dictionary, we use “marital_numeric” to specify the variable\n",
        "# which we want to recode, followed by a colon and another set of curly brackets.\n",
        "# Within this second set of curly brackets, we specify the recoding in the following order:\n",
        "# Variable’s original value :Variable’s new value\n",
        "# Each specification is separated by a comma.\n",
        "# Note that we use Python’s valuefor missing numeric values, NaN, where necessary.\n",
        "# Finally, we tell Python to use the dictionary to replace the variable’s values.\n",
        "bank_train.replace(dict_edu, inplace=True)\n",
        "bank_train.head\n",
        "# The command replace() will replace the values according to the rules in the dictionary dict_edu."
      ],
      "metadata": {
        "colab": {
          "base_uri": "https://localhost:8080/"
        },
        "id": "_RpJ7hjhk-lx",
        "outputId": "762038f1-be02-4e39-c712-1490cd342bca"
      },
      "execution_count": 33,
      "outputs": [
        {
          "output_type": "execute_result",
          "data": {
            "text/plain": [
              "<bound method NDFrame.head of        age          job  marital  education default  balance housing loan  \\\n",
              "0       59       admin.  married  secondary      no     2343     yes   no   \n",
              "1       56       admin.  married  secondary      no       45      no   no   \n",
              "2       41   technician  married  secondary      no     1270     yes   no   \n",
              "3       55     services  married  secondary      no     2476     yes   no   \n",
              "4       54       admin.  married   tertiary      no      184      no   no   \n",
              "...    ...          ...      ...        ...     ...      ...     ...  ...   \n",
              "11157   33  blue-collar   single    primary      no        1     yes   no   \n",
              "11158   39     services  married  secondary      no      733      no   no   \n",
              "11159   32   technician   single  secondary      no       29      no   no   \n",
              "11160   43   technician  married  secondary      no        0      no  yes   \n",
              "11161   34   technician  married  secondary      no        0      no   no   \n",
              "\n",
              "        contact  day month  duration  campaign  pdays  previous poutcome  \\\n",
              "0       unknown    5   may      1042         1     -1         0  unknown   \n",
              "1       unknown    5   may      1467         1     -1         0  unknown   \n",
              "2       unknown    5   may      1389         1     -1         0  unknown   \n",
              "3       unknown    5   may       579         1     -1         0  unknown   \n",
              "4       unknown    5   may       673         2     -1         0  unknown   \n",
              "...         ...  ...   ...       ...       ...    ...       ...      ...   \n",
              "11157  cellular   20   apr       257         1     -1         0  unknown   \n",
              "11158   unknown   16   jun        83         4     -1         0  unknown   \n",
              "11159  cellular   19   aug       156         2     -1         0  unknown   \n",
              "11160  cellular    8   may         9         2    172         5  failure   \n",
              "11161  cellular    9   jul       628         1     -1         0  unknown   \n",
              "\n",
              "      deposit  marital_numeric  \n",
              "0         yes                2  \n",
              "1         yes                2  \n",
              "2         yes                2  \n",
              "3         yes                2  \n",
              "4         yes                2  \n",
              "...       ...              ...  \n",
              "11157      no                1  \n",
              "11158      no                2  \n",
              "11159      no                1  \n",
              "11160      no                2  \n",
              "11161      no                2  \n",
              "\n",
              "[11162 rows x 18 columns]>"
            ]
          },
          "metadata": {},
          "execution_count": 33
        }
      ]
    },
    {
      "cell_type": "markdown",
      "source": [
        "## 2.4 How to Standardise Numeric Fields Using Python\n"
      ],
      "metadata": {
        "id": "_h-xmYUllAKh"
      }
    },
    {
      "cell_type": "code",
      "source": [
        "# Import the required package.\n",
        "from scipy import stats\n",
        "\n",
        "# We will standardize the age variable and save it as a new variable, age_z.\n",
        "bank_train['age_z'] = stats.zscore(bank_train['age'])\n",
        "bank_train.head\n",
        "# The zscore function calculates the z‐value of the given variable,\n",
        "# in this case age, written in the code as bank_train[‘age’].\n",
        "# As the zscore() command is part of the stats package, we write the command as stats.zscore().\n",
        "# We save it as a new variable in the data set, age_z."
      ],
      "metadata": {
        "colab": {
          "base_uri": "https://localhost:8080/"
        },
        "id": "3uEh1FKFlDtp",
        "outputId": "59e06412-f231-4562-a1eb-ba4a506d70d4"
      },
      "execution_count": 35,
      "outputs": [
        {
          "output_type": "execute_result",
          "data": {
            "text/plain": [
              "<bound method NDFrame.head of        age          job  marital  education default  balance housing loan  \\\n",
              "0       59       admin.  married  secondary      no     2343     yes   no   \n",
              "1       56       admin.  married  secondary      no       45      no   no   \n",
              "2       41   technician  married  secondary      no     1270     yes   no   \n",
              "3       55     services  married  secondary      no     2476     yes   no   \n",
              "4       54       admin.  married   tertiary      no      184      no   no   \n",
              "...    ...          ...      ...        ...     ...      ...     ...  ...   \n",
              "11157   33  blue-collar   single    primary      no        1     yes   no   \n",
              "11158   39     services  married  secondary      no      733      no   no   \n",
              "11159   32   technician   single  secondary      no       29      no   no   \n",
              "11160   43   technician  married  secondary      no        0      no  yes   \n",
              "11161   34   technician  married  secondary      no        0      no   no   \n",
              "\n",
              "        contact  day month  duration  campaign  pdays  previous poutcome  \\\n",
              "0       unknown    5   may      1042         1     -1         0  unknown   \n",
              "1       unknown    5   may      1467         1     -1         0  unknown   \n",
              "2       unknown    5   may      1389         1     -1         0  unknown   \n",
              "3       unknown    5   may       579         1     -1         0  unknown   \n",
              "4       unknown    5   may       673         2     -1         0  unknown   \n",
              "...         ...  ...   ...       ...       ...    ...       ...      ...   \n",
              "11157  cellular   20   apr       257         1     -1         0  unknown   \n",
              "11158   unknown   16   jun        83         4     -1         0  unknown   \n",
              "11159  cellular   19   aug       156         2     -1         0  unknown   \n",
              "11160  cellular    8   may         9         2    172         5  failure   \n",
              "11161  cellular    9   jul       628         1     -1         0  unknown   \n",
              "\n",
              "      deposit  marital_numeric     age_z  \n",
              "0         yes                2  1.491505  \n",
              "1         yes                2  1.239676  \n",
              "2         yes                2 -0.019470  \n",
              "3         yes                2  1.155733  \n",
              "4         yes                2  1.071790  \n",
              "...       ...              ...       ...  \n",
              "11157      no                1 -0.691015  \n",
              "11158      no                2 -0.187357  \n",
              "11159      no                1 -0.774958  \n",
              "11160      no                2  0.148416  \n",
              "11161      no                2 -0.607072  \n",
              "\n",
              "[11162 rows x 19 columns]>"
            ]
          },
          "metadata": {},
          "execution_count": 35
        }
      ]
    },
    {
      "cell_type": "markdown",
      "source": [
        "## 2.5 How to Identify Outliers Using Python"
      ],
      "metadata": {
        "id": "XJoB302glD_Q"
      }
    },
    {
      "cell_type": "code",
      "source": [
        "# We will continue using the age_z variable that we created in the previous section.\n",
        "# We will find outliers by using the query() function, which identifies rows that meet a particular condition.\n",
        "# bank_train.query('age_z > 3 | age_z < ‐3')\n",
        "\n",
        "# The condition we want all returned records to meet is given as ’age_z > 3 |age_z < ‐3’.\n",
        "# In words, this condition requires each record to either have an age_z value greater than 3, or an age_z value less than −3.\n",
        "# The “or” is specified by the character | between the two conditions.\n",
        "# All records which meet the specified condition are returned.\n",
        "# In our example,all the records that have age_z values greater than 3 or less than −3.\n",
        "# We can use these records to create a new data set, which is made up only of these values.\n",
        "bank_train_outliers = bank_train.query('age_z > 3 | age_z < -3')\n",
        "\n",
        "# By giving the output of the query() command a name, we create a new data set of only outliers, which we have called bank_train_outliers.\n",
        "# Let us sort the data set bank_train_outliers by its age_z variable.\n",
        "bank_train_sort = bank_train.sort_values(['age_z'], ascending=False)\n",
        "\n",
        "# The sort_values() command will sort the records in the data set based on a specified variable.\n",
        "# The sort can be ascending or descending.\n",
        "# Here We  want the largest age_z values at the top, so we sort in descending order by\n",
        "# specifying ascending = False.\n",
        "# We can save this sorted data set under its own name,say bank_train_sort.\n",
        "# Finally, let us say we want to report the age and marital status of the  15  people who have the largest age_z values.\n",
        "# This condition specifies both the number of rows to report (15) and the columns to report (the variables named age and marital).\n",
        "bank_train_sort[['age', 'marital']].head(n=15)\n",
        "\n",
        "# The double‐bracket notation given after the data set name lets us specify which columns to include.\n",
        "# The head() command will give the top records,\n",
        "# stopping after n records if n is given, or after five records if no n value is given.\n",
        "# In our case, we specify n = 15.\n",
        "# The results are the age and marital status of the people with the 15 largest age_z values."
      ],
      "metadata": {
        "colab": {
          "base_uri": "https://localhost:8080/",
          "height": 519
        },
        "id": "PHC8U-OglF5T",
        "outputId": "7b5a1da4-b489-4ead-b301-23f4b4d6dbbe"
      },
      "execution_count": 40,
      "outputs": [
        {
          "output_type": "execute_result",
          "data": {
            "text/plain": [
              "       age   marital\n",
              "1582    95  divorced\n",
              "3756    93   married\n",
              "3822    93   married\n",
              "3098    92   married\n",
              "2802    92   married\n",
              "1243    90  divorced\n",
              "3292    90  divorced\n",
              "9430    89   married\n",
              "10562   88   married\n",
              "5521    88   married\n",
              "2793    87  divorced\n",
              "8167    87   married\n",
              "3067    87   married\n",
              "2865    87   married\n",
              "10843   86  divorced"
            ],
            "text/html": [
              "\n",
              "  <div id=\"df-d9024f32-7cb8-4d96-b1b1-a25b44760e8a\" class=\"colab-df-container\">\n",
              "    <div>\n",
              "<style scoped>\n",
              "    .dataframe tbody tr th:only-of-type {\n",
              "        vertical-align: middle;\n",
              "    }\n",
              "\n",
              "    .dataframe tbody tr th {\n",
              "        vertical-align: top;\n",
              "    }\n",
              "\n",
              "    .dataframe thead th {\n",
              "        text-align: right;\n",
              "    }\n",
              "</style>\n",
              "<table border=\"1\" class=\"dataframe\">\n",
              "  <thead>\n",
              "    <tr style=\"text-align: right;\">\n",
              "      <th></th>\n",
              "      <th>age</th>\n",
              "      <th>marital</th>\n",
              "    </tr>\n",
              "  </thead>\n",
              "  <tbody>\n",
              "    <tr>\n",
              "      <th>1582</th>\n",
              "      <td>95</td>\n",
              "      <td>divorced</td>\n",
              "    </tr>\n",
              "    <tr>\n",
              "      <th>3756</th>\n",
              "      <td>93</td>\n",
              "      <td>married</td>\n",
              "    </tr>\n",
              "    <tr>\n",
              "      <th>3822</th>\n",
              "      <td>93</td>\n",
              "      <td>married</td>\n",
              "    </tr>\n",
              "    <tr>\n",
              "      <th>3098</th>\n",
              "      <td>92</td>\n",
              "      <td>married</td>\n",
              "    </tr>\n",
              "    <tr>\n",
              "      <th>2802</th>\n",
              "      <td>92</td>\n",
              "      <td>married</td>\n",
              "    </tr>\n",
              "    <tr>\n",
              "      <th>1243</th>\n",
              "      <td>90</td>\n",
              "      <td>divorced</td>\n",
              "    </tr>\n",
              "    <tr>\n",
              "      <th>3292</th>\n",
              "      <td>90</td>\n",
              "      <td>divorced</td>\n",
              "    </tr>\n",
              "    <tr>\n",
              "      <th>9430</th>\n",
              "      <td>89</td>\n",
              "      <td>married</td>\n",
              "    </tr>\n",
              "    <tr>\n",
              "      <th>10562</th>\n",
              "      <td>88</td>\n",
              "      <td>married</td>\n",
              "    </tr>\n",
              "    <tr>\n",
              "      <th>5521</th>\n",
              "      <td>88</td>\n",
              "      <td>married</td>\n",
              "    </tr>\n",
              "    <tr>\n",
              "      <th>2793</th>\n",
              "      <td>87</td>\n",
              "      <td>divorced</td>\n",
              "    </tr>\n",
              "    <tr>\n",
              "      <th>8167</th>\n",
              "      <td>87</td>\n",
              "      <td>married</td>\n",
              "    </tr>\n",
              "    <tr>\n",
              "      <th>3067</th>\n",
              "      <td>87</td>\n",
              "      <td>married</td>\n",
              "    </tr>\n",
              "    <tr>\n",
              "      <th>2865</th>\n",
              "      <td>87</td>\n",
              "      <td>married</td>\n",
              "    </tr>\n",
              "    <tr>\n",
              "      <th>10843</th>\n",
              "      <td>86</td>\n",
              "      <td>divorced</td>\n",
              "    </tr>\n",
              "  </tbody>\n",
              "</table>\n",
              "</div>\n",
              "    <div class=\"colab-df-buttons\">\n",
              "\n",
              "  <div class=\"colab-df-container\">\n",
              "    <button class=\"colab-df-convert\" onclick=\"convertToInteractive('df-d9024f32-7cb8-4d96-b1b1-a25b44760e8a')\"\n",
              "            title=\"Convert this dataframe to an interactive table.\"\n",
              "            style=\"display:none;\">\n",
              "\n",
              "  <svg xmlns=\"http://www.w3.org/2000/svg\" height=\"24px\" viewBox=\"0 -960 960 960\">\n",
              "    <path d=\"M120-120v-720h720v720H120Zm60-500h600v-160H180v160Zm220 220h160v-160H400v160Zm0 220h160v-160H400v160ZM180-400h160v-160H180v160Zm440 0h160v-160H620v160ZM180-180h160v-160H180v160Zm440 0h160v-160H620v160Z\"/>\n",
              "  </svg>\n",
              "    </button>\n",
              "\n",
              "  <style>\n",
              "    .colab-df-container {\n",
              "      display:flex;\n",
              "      gap: 12px;\n",
              "    }\n",
              "\n",
              "    .colab-df-convert {\n",
              "      background-color: #E8F0FE;\n",
              "      border: none;\n",
              "      border-radius: 50%;\n",
              "      cursor: pointer;\n",
              "      display: none;\n",
              "      fill: #1967D2;\n",
              "      height: 32px;\n",
              "      padding: 0 0 0 0;\n",
              "      width: 32px;\n",
              "    }\n",
              "\n",
              "    .colab-df-convert:hover {\n",
              "      background-color: #E2EBFA;\n",
              "      box-shadow: 0px 1px 2px rgba(60, 64, 67, 0.3), 0px 1px 3px 1px rgba(60, 64, 67, 0.15);\n",
              "      fill: #174EA6;\n",
              "    }\n",
              "\n",
              "    .colab-df-buttons div {\n",
              "      margin-bottom: 4px;\n",
              "    }\n",
              "\n",
              "    [theme=dark] .colab-df-convert {\n",
              "      background-color: #3B4455;\n",
              "      fill: #D2E3FC;\n",
              "    }\n",
              "\n",
              "    [theme=dark] .colab-df-convert:hover {\n",
              "      background-color: #434B5C;\n",
              "      box-shadow: 0px 1px 3px 1px rgba(0, 0, 0, 0.15);\n",
              "      filter: drop-shadow(0px 1px 2px rgba(0, 0, 0, 0.3));\n",
              "      fill: #FFFFFF;\n",
              "    }\n",
              "  </style>\n",
              "\n",
              "    <script>\n",
              "      const buttonEl =\n",
              "        document.querySelector('#df-d9024f32-7cb8-4d96-b1b1-a25b44760e8a button.colab-df-convert');\n",
              "      buttonEl.style.display =\n",
              "        google.colab.kernel.accessAllowed ? 'block' : 'none';\n",
              "\n",
              "      async function convertToInteractive(key) {\n",
              "        const element = document.querySelector('#df-d9024f32-7cb8-4d96-b1b1-a25b44760e8a');\n",
              "        const dataTable =\n",
              "          await google.colab.kernel.invokeFunction('convertToInteractive',\n",
              "                                                    [key], {});\n",
              "        if (!dataTable) return;\n",
              "\n",
              "        const docLinkHtml = 'Like what you see? Visit the ' +\n",
              "          '<a target=\"_blank\" href=https://colab.research.google.com/notebooks/data_table.ipynb>data table notebook</a>'\n",
              "          + ' to learn more about interactive tables.';\n",
              "        element.innerHTML = '';\n",
              "        dataTable['output_type'] = 'display_data';\n",
              "        await google.colab.output.renderOutput(dataTable, element);\n",
              "        const docLink = document.createElement('div');\n",
              "        docLink.innerHTML = docLinkHtml;\n",
              "        element.appendChild(docLink);\n",
              "      }\n",
              "    </script>\n",
              "  </div>\n",
              "\n",
              "\n",
              "<div id=\"df-ba871b94-c79f-47b2-8784-ade7c2a1495d\">\n",
              "  <button class=\"colab-df-quickchart\" onclick=\"quickchart('df-ba871b94-c79f-47b2-8784-ade7c2a1495d')\"\n",
              "            title=\"Suggest charts\"\n",
              "            style=\"display:none;\">\n",
              "\n",
              "<svg xmlns=\"http://www.w3.org/2000/svg\" height=\"24px\"viewBox=\"0 0 24 24\"\n",
              "     width=\"24px\">\n",
              "    <g>\n",
              "        <path d=\"M19 3H5c-1.1 0-2 .9-2 2v14c0 1.1.9 2 2 2h14c1.1 0 2-.9 2-2V5c0-1.1-.9-2-2-2zM9 17H7v-7h2v7zm4 0h-2V7h2v10zm4 0h-2v-4h2v4z\"/>\n",
              "    </g>\n",
              "</svg>\n",
              "  </button>\n",
              "\n",
              "<style>\n",
              "  .colab-df-quickchart {\n",
              "      --bg-color: #E8F0FE;\n",
              "      --fill-color: #1967D2;\n",
              "      --hover-bg-color: #E2EBFA;\n",
              "      --hover-fill-color: #174EA6;\n",
              "      --disabled-fill-color: #AAA;\n",
              "      --disabled-bg-color: #DDD;\n",
              "  }\n",
              "\n",
              "  [theme=dark] .colab-df-quickchart {\n",
              "      --bg-color: #3B4455;\n",
              "      --fill-color: #D2E3FC;\n",
              "      --hover-bg-color: #434B5C;\n",
              "      --hover-fill-color: #FFFFFF;\n",
              "      --disabled-bg-color: #3B4455;\n",
              "      --disabled-fill-color: #666;\n",
              "  }\n",
              "\n",
              "  .colab-df-quickchart {\n",
              "    background-color: var(--bg-color);\n",
              "    border: none;\n",
              "    border-radius: 50%;\n",
              "    cursor: pointer;\n",
              "    display: none;\n",
              "    fill: var(--fill-color);\n",
              "    height: 32px;\n",
              "    padding: 0;\n",
              "    width: 32px;\n",
              "  }\n",
              "\n",
              "  .colab-df-quickchart:hover {\n",
              "    background-color: var(--hover-bg-color);\n",
              "    box-shadow: 0 1px 2px rgba(60, 64, 67, 0.3), 0 1px 3px 1px rgba(60, 64, 67, 0.15);\n",
              "    fill: var(--button-hover-fill-color);\n",
              "  }\n",
              "\n",
              "  .colab-df-quickchart-complete:disabled,\n",
              "  .colab-df-quickchart-complete:disabled:hover {\n",
              "    background-color: var(--disabled-bg-color);\n",
              "    fill: var(--disabled-fill-color);\n",
              "    box-shadow: none;\n",
              "  }\n",
              "\n",
              "  .colab-df-spinner {\n",
              "    border: 2px solid var(--fill-color);\n",
              "    border-color: transparent;\n",
              "    border-bottom-color: var(--fill-color);\n",
              "    animation:\n",
              "      spin 1s steps(1) infinite;\n",
              "  }\n",
              "\n",
              "  @keyframes spin {\n",
              "    0% {\n",
              "      border-color: transparent;\n",
              "      border-bottom-color: var(--fill-color);\n",
              "      border-left-color: var(--fill-color);\n",
              "    }\n",
              "    20% {\n",
              "      border-color: transparent;\n",
              "      border-left-color: var(--fill-color);\n",
              "      border-top-color: var(--fill-color);\n",
              "    }\n",
              "    30% {\n",
              "      border-color: transparent;\n",
              "      border-left-color: var(--fill-color);\n",
              "      border-top-color: var(--fill-color);\n",
              "      border-right-color: var(--fill-color);\n",
              "    }\n",
              "    40% {\n",
              "      border-color: transparent;\n",
              "      border-right-color: var(--fill-color);\n",
              "      border-top-color: var(--fill-color);\n",
              "    }\n",
              "    60% {\n",
              "      border-color: transparent;\n",
              "      border-right-color: var(--fill-color);\n",
              "    }\n",
              "    80% {\n",
              "      border-color: transparent;\n",
              "      border-right-color: var(--fill-color);\n",
              "      border-bottom-color: var(--fill-color);\n",
              "    }\n",
              "    90% {\n",
              "      border-color: transparent;\n",
              "      border-bottom-color: var(--fill-color);\n",
              "    }\n",
              "  }\n",
              "</style>\n",
              "\n",
              "  <script>\n",
              "    async function quickchart(key) {\n",
              "      const quickchartButtonEl =\n",
              "        document.querySelector('#' + key + ' button');\n",
              "      quickchartButtonEl.disabled = true;  // To prevent multiple clicks.\n",
              "      quickchartButtonEl.classList.add('colab-df-spinner');\n",
              "      try {\n",
              "        const charts = await google.colab.kernel.invokeFunction(\n",
              "            'suggestCharts', [key], {});\n",
              "      } catch (error) {\n",
              "        console.error('Error during call to suggestCharts:', error);\n",
              "      }\n",
              "      quickchartButtonEl.classList.remove('colab-df-spinner');\n",
              "      quickchartButtonEl.classList.add('colab-df-quickchart-complete');\n",
              "    }\n",
              "    (() => {\n",
              "      let quickchartButtonEl =\n",
              "        document.querySelector('#df-ba871b94-c79f-47b2-8784-ade7c2a1495d button');\n",
              "      quickchartButtonEl.style.display =\n",
              "        google.colab.kernel.accessAllowed ? 'block' : 'none';\n",
              "    })();\n",
              "  </script>\n",
              "</div>\n",
              "    </div>\n",
              "  </div>\n"
            ]
          },
          "metadata": {},
          "execution_count": 40
        }
      ]
    }
  ]
}
